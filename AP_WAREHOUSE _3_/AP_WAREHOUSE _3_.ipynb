{
 "metadata": {
  "kernelspec": {
   "display_name": "Streamlit Notebook",
   "name": "streamlit"
  },
  "lastEditStatus": {
   "notebookId": "cstwk2ull44zdwrhmczg",
   "authorId": "284297234532",
   "authorName": "APRODDUTOOR",
   "authorEmail": "ashwin.proddutoor@snowflake.com",
   "sessionId": "44a13661-c517-4d9e-8f17-73ffc4a77ce2",
   "lastEditTime": 1752590834729
  }
 },
 "nbformat_minor": 5,
 "nbformat": 4,
 "cells": [
  {
   "cell_type": "code",
   "id": "3775908f-ca36-4846-8f38-5adca39217f2",
   "metadata": {
    "language": "sql",
    "name": "cell1"
   },
   "source": "\nshow warehouses;\n",
   "execution_count": null,
   "outputs": []
  }
 ]
}